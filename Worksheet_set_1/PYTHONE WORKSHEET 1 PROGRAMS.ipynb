{
 "cells": [
  {
   "cell_type": "markdown",
   "id": "c0d7a293",
   "metadata": {},
   "source": [
    "# Write a python program to find the factorial of a number."
   ]
  },
  {
   "cell_type": "code",
   "execution_count": 6,
   "id": "a8b8946d",
   "metadata": {},
   "outputs": [
    {
     "name": "stdout",
     "output_type": "stream",
     "text": [
      "Enter Number : 7\n",
      "The factorial of 7 is 5040\n"
     ]
    }
   ],
   "source": [
    "num = int(input('Enter Number : '))\n",
    "factorial = 1\n",
    "\n",
    "if num < 0:\n",
    "    print(\"No Factorial for -ve Numbers\")\n",
    "else:\n",
    "    for x in range(1, num + 1):\n",
    "        factorial *= x\n",
    "    print(\"The factorial of\", num, \"is\", factorial)"
   ]
  },
  {
   "cell_type": "markdown",
   "id": "ef3cc2df",
   "metadata": {},
   "source": [
    "# Write a python program to find whether a number is prime or composite.  "
   ]
  },
  {
   "cell_type": "code",
   "execution_count": 8,
   "id": "021c5100",
   "metadata": {},
   "outputs": [
    {
     "name": "stdout",
     "output_type": "stream",
     "text": [
      "Enter Number : 5\n",
      "5 is a prime number\n"
     ]
    }
   ],
   "source": [
    "num = int(input('Enter Number : '))\n",
    "\n",
    "if num > 1:\n",
    "    for i in range(2, int(num/2)+1):\n",
    "        if (num % i) == 0:\n",
    "            print(num, \"is not a prime number\")\n",
    "            break\n",
    "        else:\n",
    "            print(num, \"is a prime number\")\n",
    "\n",
    "else:\n",
    "    (num, \"is not a prime number\")"
   ]
  },
  {
   "cell_type": "markdown",
   "id": "0711c568",
   "metadata": {},
   "source": [
    "# Write a python program to check whether a given string is palindrome or not."
   ]
  },
  {
   "cell_type": "code",
   "execution_count": 15,
   "id": "0d933f35",
   "metadata": {},
   "outputs": [
    {
     "name": "stdout",
     "output_type": "stream",
     "text": [
      "String is Palindrome\n"
     ]
    }
   ],
   "source": [
    "my_string = 'madam'\n",
    "\n",
    "reverse_string = reversed(my_string)\n",
    "\n",
    "if list(my_string) == list(reverse_string):\n",
    "    print('String is Palindrome')\n",
    "else:\n",
    "    print('String is not palindrome')"
   ]
  },
  {
   "cell_type": "markdown",
   "id": "f550dc56",
   "metadata": {},
   "source": [
    "#  Write a Python program to get the third side of right-angled triangle from two given sides."
   ]
  },
  {
   "cell_type": "code",
   "execution_count": 16,
   "id": "fadef8a7",
   "metadata": {},
   "outputs": [
    {
     "name": "stdout",
     "output_type": "stream",
     "text": [
      "Side 1 : 4\n",
      "Side 2 : 5\n",
      "The length of the third side is: 6.4031242374328485\n"
     ]
    }
   ],
   "source": [
    "def triangle_side(side1,side2):\n",
    "    third_side = (side1**2 + side2**2)**0.5\n",
    "    return third_side\n",
    "\n",
    "side1 = float(input(\"Side 1 : \"))\n",
    "side2 = float(input(\"Side 2 : \"))\n",
    "\n",
    "side3 = triangle_side(side1, side2)\n",
    "\n",
    "print(\"The length of the third side is:\", side3)"
   ]
  },
  {
   "cell_type": "markdown",
   "id": "19dea516",
   "metadata": {},
   "source": [
    "# Write a python program to print the frequency of each of the characters present in a given string. "
   ]
  },
  {
   "cell_type": "code",
   "execution_count": 19,
   "id": "4b1ad683",
   "metadata": {},
   "outputs": [
    {
     "name": "stdout",
     "output_type": "stream",
     "text": [
      "{'p': 2, 'y': 1, 't': 1, 'h': 1, 'o': 2, 'n': 1, ' ': 1, 'r': 2, 'g': 1, 'a': 1, 'm': 1}\n"
     ]
    }
   ],
   "source": [
    "given_string = 'python program'\n",
    "\n",
    "empty_dict = {}\n",
    "\n",
    "for x in given_string:\n",
    "    if x in empty_dict:\n",
    "        empty_dict[x] += 1\n",
    "    else:\n",
    "        empty_dict[x] = 1\n",
    "print(empty_dict)"
   ]
  },
  {
   "cell_type": "code",
   "execution_count": null,
   "id": "25c97575",
   "metadata": {},
   "outputs": [],
   "source": []
  }
 ],
 "metadata": {
  "kernelspec": {
   "display_name": "Python 3 (ipykernel)",
   "language": "python",
   "name": "python3"
  },
  "language_info": {
   "codemirror_mode": {
    "name": "ipython",
    "version": 3
   },
   "file_extension": ".py",
   "mimetype": "text/x-python",
   "name": "python",
   "nbconvert_exporter": "python",
   "pygments_lexer": "ipython3",
   "version": "3.9.12"
  }
 },
 "nbformat": 4,
 "nbformat_minor": 5
}
