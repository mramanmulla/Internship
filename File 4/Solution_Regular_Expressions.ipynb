{
  "nbformat": 4,
  "nbformat_minor": 0,
  "metadata": {
    "colab": {
      "provenance": []
    },
    "kernelspec": {
      "name": "python3",
      "display_name": "Python 3"
    },
    "language_info": {
      "name": "python"
    }
  },
  "cells": [
    {
      "cell_type": "markdown",
      "source": [
        "Question 1 .Write a Python program to replace all occurrences of a space, comma, or dot with a colon.\n",
        "\n",
        "Sample Text- 'Python Exercises, PHP exercises.'\n",
        "  \n",
        "Expected Output: Python:Exercises::PHP:exercises:\n"
      ],
      "metadata": {
        "id": "INdaNqgxqxXW"
      }
    },
    {
      "cell_type": "code",
      "source": [
        "import re\n",
        "\n",
        "def replace_characters(text):\n",
        "    pattern = r'[ ,.]'\n",
        "    replacement = ':'\n",
        "    result = re.sub(pattern, replacement, text)\n",
        "    return result\n",
        "\n",
        "given_text = 'Python Exercises, PHP exercises.'\n",
        "output = replace_characters(given_text)\n",
        "print(output)"
      ],
      "metadata": {
        "colab": {
          "base_uri": "https://localhost:8080/"
        },
        "id": "brKORGNLq6AF",
        "outputId": "cfddd489-6c56-4093-9604-856a884c7665"
      },
      "execution_count": 1,
      "outputs": [
        {
          "output_type": "stream",
          "name": "stdout",
          "text": [
            "Python:Exercises::PHP:exercises:\n"
          ]
        }
      ]
    },
    {
      "cell_type": "markdown",
      "source": [
        "Question 2-  Write a Python program to find all words starting with 'a' or 'e' in a given string.\n",
        "\n",
        "Sample Text- 'Python Exercises, PHP exercises.'"
      ],
      "metadata": {
        "id": "mEiR-wKWsMvW"
      }
    },
    {
      "cell_type": "code",
      "source": [
        "string = 'Python Exercises, PHP exercises.'\n",
        "pattern = r'\\b[aeAE]\\w+\\b'\n",
        "\n",
        "result = re.findall(pattern,string)\n",
        "print(result)"
      ],
      "metadata": {
        "colab": {
          "base_uri": "https://localhost:8080/"
        },
        "id": "z5UUNp1psRgi",
        "outputId": "a9a2ded8-5d9e-4f3d-f00c-c5fcd19e2748"
      },
      "execution_count": 2,
      "outputs": [
        {
          "output_type": "stream",
          "name": "stdout",
          "text": [
            "['Exercises', 'exercises']\n"
          ]
        }
      ]
    },
    {
      "cell_type": "markdown",
      "source": [
        "Question 3- Create a function in python to find all words that are at least 4 characters long in a string. The use of the re.compile() method is mandatory."
      ],
      "metadata": {
        "id": "vPLqGLn4si0Q"
      }
    },
    {
      "cell_type": "code",
      "source": [
        "def four_long_words(text):\n",
        "    pattern = re.compile(r'\\b\\w{4,}\\b')\n",
        "    matches = pattern.findall(text)\n",
        "\n",
        "sample = 'Python Exercises, PHP exercises.'\n",
        "four_long_words(sample)\n",
        "\n",
        "#No word in sample of 4 word, Hense showing no any output."
      ],
      "metadata": {
        "id": "SzQgVzahskkI"
      },
      "execution_count": 4,
      "outputs": []
    },
    {
      "cell_type": "markdown",
      "source": [
        "Question 4- Create a function in python to find all three, four, and five character words in a string. The use of the re.compile() method is mandatory."
      ],
      "metadata": {
        "id": "5mrc09O3t5Pi"
      }
    },
    {
      "cell_type": "code",
      "source": [
        "def words(text):\n",
        "    pattern = re.compile(r'\\b\\w{3,5}\\b')\n",
        "    matches = pattern.findall(text)\n",
        "    return matches\n",
        "\n",
        "sample_text = 'Python Exercises, PHP exercises.'\n",
        "variable = words(sample_text)\n",
        "print(variable)"
      ],
      "metadata": {
        "colab": {
          "base_uri": "https://localhost:8080/"
        },
        "id": "UkrEJ22mtVhK",
        "outputId": "9d6433fa-cba4-4b4c-8f8f-73e56bfd730f"
      },
      "execution_count": 11,
      "outputs": [
        {
          "output_type": "stream",
          "name": "stdout",
          "text": [
            "['PHP']\n"
          ]
        }
      ]
    },
    {
      "cell_type": "markdown",
      "source": [
        "Question 5- Create a function in Python to remove the parenthesis in a list of strings. The use of the re.compile() method is mandatory."
      ],
      "metadata": {
        "id": "vD1ipBOcumdi"
      }
    },
    {
      "cell_type": "code",
      "source": [
        "def words(strings):\n",
        "    pattern = re.compile(r'\\((.*?)\\)')\n",
        "    strings = [pattern.sub('', s) for s in strings]\n",
        "    return strings\n",
        "\n",
        "sample_text = ['example (.com)\", \"hr@fliprobo (.com)\", \"github (.com)\", \"Hello (Data Science World)\", \"Data (Scientist)']\n",
        "list = words(sample_text)\n",
        "for strings in list:\n",
        "  print(list)"
      ],
      "metadata": {
        "colab": {
          "base_uri": "https://localhost:8080/"
        },
        "id": "5i8fbb_it_A8",
        "outputId": "6e50dd3f-c678-4d0c-8983-1b4b4aa2d360"
      },
      "execution_count": 17,
      "outputs": [
        {
          "output_type": "stream",
          "name": "stdout",
          "text": [
            "['example \", \"hr@fliprobo \", \"github \", \"Hello \", \"Data ']\n"
          ]
        }
      ]
    },
    {
      "cell_type": "markdown",
      "source": [
        "Question 6- Write a python program to remove the parenthesis area from the text stored in the text file using Regular Expression.\n",
        "\n",
        "Sample Text: [\"example (.com)\", \"hr@fliprobo (.com)\", \"github (.com)\", \"Hello (Data Science World)\", \"Data (Scientist)\"]\n",
        "\n",
        "Expected Output: [\"example\", \"hr@fliprobo\", \"github\", \"Hello\", \"Data\n"
      ],
      "metadata": {
        "id": "oi0fOlnUwIPF"
      }
    },
    {
      "cell_type": "code",
      "source": [
        "def words(strings):\n",
        "    pattern = re.compile(r'\\((.*?)\\)')\n",
        "    strings = [pattern.sub('', s) for s in strings]\n",
        "    return strings\n",
        "\n",
        "sample_text = ['example (.com)\", \"hr@fliprobo (.com)\", \"github (.com)\", \"Hello (Data Science World)\", \"Data (Scientist)']\n",
        "list = words(sample_text)\n",
        "for strings in list:\n",
        "  print(list)"
      ],
      "metadata": {
        "colab": {
          "base_uri": "https://localhost:8080/"
        },
        "id": "i_42-BP3wMXR",
        "outputId": "57ef6ced-f08f-4244-cc4d-bfe8af6c6aa2"
      },
      "execution_count": 18,
      "outputs": [
        {
          "output_type": "stream",
          "name": "stdout",
          "text": [
            "['example \", \"hr@fliprobo \", \"github \", \"Hello \", \"Data ']\n"
          ]
        }
      ]
    },
    {
      "cell_type": "markdown",
      "source": [
        "Question 7- Write a regular expression in Python to split a string into uppercase letters.\n",
        "\n",
        "Sample text: “ImportanceOfRegularExpressionsInPython”\n",
        "\n",
        "Expected Output: [‘Importance’, ‘Of’, ‘Regular’, ‘Expression’, ‘In’, ‘Python’]\n"
      ],
      "metadata": {
        "id": "GLV4_UIRwYiY"
      }
    },
    {
      "cell_type": "code",
      "source": [
        "string = 'ImportanceOfRegularExpressionsInPython'\n",
        "pattern = '[A-Z][a-z]*'\n",
        "\n",
        "result = re.findall(pattern,string)\n",
        "print(result)"
      ],
      "metadata": {
        "colab": {
          "base_uri": "https://localhost:8080/"
        },
        "id": "5EuqIgzbwOM3",
        "outputId": "3e599ce2-cfad-48ec-aaa2-1bd4d61f50b4"
      },
      "execution_count": 26,
      "outputs": [
        {
          "output_type": "stream",
          "name": "stdout",
          "text": [
            "['Importance', 'Of', 'Regular', 'Expressions', 'In', 'Python']\n"
          ]
        }
      ]
    },
    {
      "cell_type": "markdown",
      "source": [
        "Question 8- Create a function in python to insert spaces between words starting with numbers.\n",
        "\n",
        "Sample Text: “RegularExpression1IsAn2ImportantTopic3InPython\"\n",
        "\n",
        "Expected Output: RegularExpression 1IsAn 2ImportantTopic 3InPython\n"
      ],
      "metadata": {
        "id": "uUNoy1rPxkoi"
      }
    },
    {
      "cell_type": "code",
      "source": [
        "string = 'ImportanceOfRegularExpressionsInPython'\n",
        "pattern = '([A-Za-z]+)(\\d)'\n",
        "\n",
        "result = re.compile(pattern,string)\n",
        "print(result)"
      ],
      "metadata": {
        "id": "EcCeibssxmtb"
      },
      "execution_count": null,
      "outputs": []
    },
    {
      "cell_type": "markdown",
      "source": [
        "Question 9- Create a function in python to insert spaces between words starting with capital letters or with numbers.\n",
        "\n",
        "Sample Text: “RegularExpression1IsAn2ImportantTopic3InPython\"\n",
        "\n",
        "Expected Output:  RegularExpression 1 IsAn 2 ImportantTopic 3 InPython\n"
      ],
      "metadata": {
        "id": "pYv9PZXEy2RU"
      }
    },
    {
      "cell_type": "code",
      "source": [
        "string = 'RegularExpression1IsAn2ImportantTopic3InPython'\n",
        "pattern = r'(?<=[a-zA-Z0-9])(?=[A-Z\\d])'\n",
        "\n",
        "result = re.compile(pattern)\n",
        "result1 = result.split(string)\n",
        "print(result1)"
      ],
      "metadata": {
        "colab": {
          "base_uri": "https://localhost:8080/"
        },
        "id": "RTL11Q_xxj7z",
        "outputId": "ba4d30e3-e802-4148-991d-c5dc0cb132cc"
      },
      "execution_count": 39,
      "outputs": [
        {
          "output_type": "stream",
          "name": "stdout",
          "text": [
            "['Regular', 'Expression', '1', 'Is', 'An', '2', 'Important', 'Topic', '3', 'In', 'Python']\n"
          ]
        }
      ]
    },
    {
      "cell_type": "markdown",
      "source": [
        "Question 10 -Write a python program to extract email address from the text stored in the text file using Regular Expression.\n",
        "\n",
        "Sample Text- Hello my name is Data Science and my email address is xyz@domain.com and alternate email address is xyz.abc@sdomain.domain.com.\n",
        "Please contact us at hr@fliprobo.com for further information.\n",
        "\n",
        "Expected Output:\n",
        "['xyz@domain.com', 'xyz.abc@sdomain.domain.com']\n",
        "['hr@fliprobo.com']\n",
        "\n",
        "Note- Store given sample text in the text file and then extract email addresses.\n"
      ],
      "metadata": {
        "id": "tDi5kf3B0ffk"
      }
    },
    {
      "cell_type": "code",
      "source": [
        "string = 'Hello my name is Data Science and my email address is xyz@domain.com and alternate email address is xyz.abc@sdomain.domain.com. Please contact us at hr@fliprobo.com for further information'\n",
        "pattern = r'\\b[\\w\\.-]+@[\\w\\.-]+\\b'\n",
        "\n",
        "result = re.compile(pattern)\n",
        "result1= result.findall(string)\n",
        "print(result1)"
      ],
      "metadata": {
        "colab": {
          "base_uri": "https://localhost:8080/"
        },
        "id": "YioNisGQ0e1s",
        "outputId": "5d2a5e48-e9ff-4156-cba7-404ab0d782eb"
      },
      "execution_count": 44,
      "outputs": [
        {
          "output_type": "stream",
          "name": "stdout",
          "text": [
            "['xyz@domain.com', 'xyz.abc@sdomain.domain.com', 'hr@fliprobo.com']\n"
          ]
        }
      ]
    },
    {
      "cell_type": "markdown",
      "source": [
        "Question 11- Write a Python program to match a string that contains only upper and lowercase letters, numbers, and underscores."
      ],
      "metadata": {
        "id": "6m9UckE3128s"
      }
    },
    {
      "cell_type": "code",
      "source": [
        "string = ['WritePythone', 'Code_username', 'Code_username_2023', 'OhitsPythone!!']\n",
        "pattern = '^[a-zA-Z0-9_]+$'\n",
        "\n",
        "result = re.compile(pattern)\n",
        "result1= result.findall(string)\n",
        "print(result1)"
      ],
      "metadata": {
        "colab": {
          "base_uri": "https://localhost:8080/",
          "height": 227
        },
        "id": "YC0RORIY2NYK",
        "outputId": "dd4f25b6-faea-42e7-d72f-494c65a34ee0"
      },
      "execution_count": 57,
      "outputs": [
        {
          "output_type": "error",
          "ename": "TypeError",
          "evalue": "ignored",
          "traceback": [
            "\u001b[0;31m---------------------------------------------------------------------------\u001b[0m",
            "\u001b[0;31mTypeError\u001b[0m                                 Traceback (most recent call last)",
            "\u001b[0;32m<ipython-input-57-1248dc7192f8>\u001b[0m in \u001b[0;36m<cell line: 5>\u001b[0;34m()\u001b[0m\n\u001b[1;32m      3\u001b[0m \u001b[0;34m\u001b[0m\u001b[0m\n\u001b[1;32m      4\u001b[0m \u001b[0mresult\u001b[0m \u001b[0;34m=\u001b[0m \u001b[0mre\u001b[0m\u001b[0;34m.\u001b[0m\u001b[0mcompile\u001b[0m\u001b[0;34m(\u001b[0m\u001b[0mpattern\u001b[0m\u001b[0;34m)\u001b[0m\u001b[0;34m\u001b[0m\u001b[0;34m\u001b[0m\u001b[0m\n\u001b[0;32m----> 5\u001b[0;31m \u001b[0mresult1\u001b[0m\u001b[0;34m=\u001b[0m \u001b[0mresult\u001b[0m\u001b[0;34m.\u001b[0m\u001b[0mfindall\u001b[0m\u001b[0;34m(\u001b[0m\u001b[0mstring\u001b[0m\u001b[0;34m)\u001b[0m\u001b[0;34m\u001b[0m\u001b[0;34m\u001b[0m\u001b[0m\n\u001b[0m\u001b[1;32m      6\u001b[0m \u001b[0mprint\u001b[0m\u001b[0;34m(\u001b[0m\u001b[0mresult1\u001b[0m\u001b[0;34m)\u001b[0m\u001b[0;34m\u001b[0m\u001b[0;34m\u001b[0m\u001b[0m\n",
            "\u001b[0;31mTypeError\u001b[0m: expected string or bytes-like object"
          ]
        }
      ]
    },
    {
      "cell_type": "markdown",
      "source": [
        "Question 12- Write a Python program where a string will start with a specific number."
      ],
      "metadata": {
        "id": "RsEi2Xbe3y-z"
      }
    },
    {
      "cell_type": "code",
      "source": [
        "string ="
      ],
      "metadata": {
        "id": "245IZRMZVWTX"
      },
      "execution_count": null,
      "outputs": []
    },
    {
      "cell_type": "markdown",
      "source": [
        "Question 13- Write a Python program to remove leading zeros from an IP address"
      ],
      "metadata": {
        "id": "fU6Qe3al4eKs"
      }
    },
    {
      "cell_type": "code",
      "source": [
        "string = '178.191.001.002'\n",
        "pattern = r'\\b0+(\\d+)\\b'\n",
        "\n",
        "result = re.compile(r'\\b0+(\\d+)\\b')\n",
        "print(result)"
      ],
      "metadata": {
        "colab": {
          "base_uri": "https://localhost:8080/"
        },
        "id": "O4J1vEIj4fMl",
        "outputId": "639d56ea-3712-4158-8a91-bf32725c3be7"
      },
      "execution_count": 67,
      "outputs": [
        {
          "output_type": "stream",
          "name": "stdout",
          "text": [
            "re.compile('\\\\b0+(\\\\d+)\\\\b')\n"
          ]
        }
      ]
    },
    {
      "cell_type": "markdown",
      "source": [
        "Question 14- Write a regular expression in python to match a date string in the form of Month name followed by day number and year stored in a text file.\n",
        "\n",
        "\n",
        "Sample text :  ' On August 15th 1947 that India was declared independent from British colonialism, and the reins of control were handed over to the leaders of the Country’.\n",
        "\n",
        "Expected Output- August 15th 1947\n"
      ],
      "metadata": {
        "id": "m3S2uPVf5_fj"
      }
    },
    {
      "cell_type": "code",
      "source": [
        "string = 'On August 15th 1947 that India was declared independent from British colonialism, and the reins of control were handed over to the leaders of the Country'\n",
        "pattern = r'\\b(?:August)\\s+\\d{1,2}(?:st|nd|rd|th)?\\s+\\d{4}\\b'\n",
        "\n",
        "result = re.findall(pattern, string)\n",
        "print(result)"
      ],
      "metadata": {
        "colab": {
          "base_uri": "https://localhost:8080/"
        },
        "id": "u1-xapWU5_Tz",
        "outputId": "0325a1f4-072d-4168-ef55-fa6aad10bb73"
      },
      "execution_count": 69,
      "outputs": [
        {
          "output_type": "stream",
          "name": "stdout",
          "text": [
            "['August 15th 1947']\n"
          ]
        }
      ]
    },
    {
      "cell_type": "markdown",
      "source": [
        "Question 15- Write a Python program to search some literals strings in a string.\n",
        "\n",
        "Sample text : 'The quick brown fox jumps over the lazy dog.'\n",
        "\n",
        "Searched words : 'fox', 'dog', 'horse'\n"
      ],
      "metadata": {
        "id": "P9aaeRBp6vBr"
      }
    },
    {
      "cell_type": "code",
      "source": [
        "string =  'The quick brown fox jumps over the lazy dog.'\n",
        "\n",
        "\n",
        "match = re.search('fox',string)\n",
        "match1 = re.search('dog',string)\n",
        "match2 = re.search('horse',string)\n",
        "\n",
        "print(match)\n",
        "print(match1)\n",
        "print(match2)"
      ],
      "metadata": {
        "colab": {
          "base_uri": "https://localhost:8080/"
        },
        "id": "4u7V9hvd6tNk",
        "outputId": "1b9122e3-4f07-4b82-b293-ef9f76c9aa3b"
      },
      "execution_count": 76,
      "outputs": [
        {
          "output_type": "stream",
          "name": "stdout",
          "text": [
            "<re.Match object; span=(16, 19), match='fox'>\n",
            "<re.Match object; span=(40, 43), match='dog'>\n",
            "None\n"
          ]
        }
      ]
    },
    {
      "cell_type": "markdown",
      "source": [
        "Question 16- Write a Python program to search a literals string in a string and also find the location within the original string where the pattern occurs\n",
        "\n",
        "Sample text : 'The quick brown fox jumps over the lazy dog.'\n",
        "\n",
        "Searched words : 'fox'\n"
      ],
      "metadata": {
        "id": "tZ6X0cHE8EUt"
      }
    },
    {
      "cell_type": "code",
      "source": [
        "string =  'The quick brown fox jumps over the lazy dog.'\n",
        "\n",
        "match = re.search('fox',string)\n",
        "print(match)\n",
        "\n",
        "# Span(16,19) is location for given word."
      ],
      "metadata": {
        "colab": {
          "base_uri": "https://localhost:8080/"
        },
        "id": "e2EwFaYG8DVU",
        "outputId": "10d867ed-070b-48ed-ad03-5ced743e2f60"
      },
      "execution_count": 78,
      "outputs": [
        {
          "output_type": "stream",
          "name": "stdout",
          "text": [
            "<re.Match object; span=(16, 19), match='fox'>\n"
          ]
        }
      ]
    },
    {
      "cell_type": "markdown",
      "source": [
        "Question 17- Write a Python program to find the substrings within a string.\n",
        "\n",
        "Sample text : 'Python exercises, PHP exercises, C# exercises'\n",
        "\n",
        "Pattern : 'exercises'.\n"
      ],
      "metadata": {
        "id": "B3Ohyabp8fKL"
      }
    },
    {
      "cell_type": "code",
      "source": [
        "string = 'Python exercises, PHP exercises, C# exercises'\n",
        "\n",
        "pattern = 'exercises'\n",
        "\n",
        "replace = 'C#'\n",
        "\n",
        "sub_and_count = re.subn(pattern,replace,string)\n",
        "\n",
        "print(sub_and_count)"
      ],
      "metadata": {
        "colab": {
          "base_uri": "https://localhost:8080/"
        },
        "id": "kRi4U_263ys0",
        "outputId": "82fbc1c9-b0fe-422d-c44c-ef9f948a22df"
      },
      "execution_count": 80,
      "outputs": [
        {
          "output_type": "stream",
          "name": "stdout",
          "text": [
            "('Python C#, PHP C#, C# C#', 3)\n"
          ]
        }
      ]
    },
    {
      "cell_type": "markdown",
      "source": [
        "Question 18- Write a Python program to find the occurrence and position of the substrings within a string."
      ],
      "metadata": {
        "id": "sCYt5ITA9jsk"
      }
    },
    {
      "cell_type": "code",
      "source": [
        "string =  'Python exercises, PHP exercises,exercises'\n",
        "\n",
        "\n",
        "match = re.search('Python',string)\n",
        "match1 = re.search('exercises',string)\n",
        "match2 = re.search('PHP',string)\n",
        "\n",
        "print(match)\n",
        "print(match1)\n",
        "print(match2)"
      ],
      "metadata": {
        "colab": {
          "base_uri": "https://localhost:8080/"
        },
        "id": "hmzeXDnZ9jUk",
        "outputId": "f9f259ea-891d-47f7-b27f-9d8199cfe5ae"
      },
      "execution_count": 81,
      "outputs": [
        {
          "output_type": "stream",
          "name": "stdout",
          "text": [
            "<re.Match object; span=(0, 6), match='Python'>\n",
            "<re.Match object; span=(7, 16), match='exercises'>\n",
            "<re.Match object; span=(18, 21), match='PHP'>\n"
          ]
        }
      ]
    },
    {
      "cell_type": "markdown",
      "source": [
        "Question 19- Write a Python program to convert a date of yyyy-mm-dd format to dd-mm-yyyy format"
      ],
      "metadata": {
        "id": "UIDxrRrS-VB7"
      }
    },
    {
      "cell_type": "code",
      "source": [
        "string = '2021-09-06'\n",
        "pattern = r'(\\d{4})-(\\d{2})-(\\d{2})'\n",
        "\n",
        "result = re.compile(pattern)\n",
        "print(result)"
      ],
      "metadata": {
        "colab": {
          "base_uri": "https://localhost:8080/"
        },
        "id": "D0wFJ_Y0-fxe",
        "outputId": "a6af7136-2b57-45cb-f783-7eca6a327b1c"
      },
      "execution_count": 91,
      "outputs": [
        {
          "output_type": "stream",
          "name": "stdout",
          "text": [
            "re.compile('(\\\\d{4})-(\\\\d{2})-(\\\\d{2})')\n"
          ]
        }
      ]
    },
    {
      "cell_type": "code",
      "source": [],
      "metadata": {
        "id": "gJy45SQS_xaE"
      },
      "execution_count": null,
      "outputs": []
    },
    {
      "cell_type": "markdown",
      "source": [
        "Question 20- Create a function in python to find all decimal numbers with a precision of 1 or 2 in a string. The use of the re.compile() method is mandatory."
      ],
      "metadata": {
        "id": "zJLJCjUT_yDb"
      }
    },
    {
      "cell_type": "code",
      "source": [
        "def decimalNumbers(text):\n",
        "    pattern = re.compile(r'\\b\\d+(\\.\\d{1,2})?\\b')\n",
        "    string = pattern.findall(text)\n",
        "    return string\n",
        "\n",
        "text = 'I have rupees of 0.25 0.50 0.75'\n",
        "decimalNumbers = decimalNumbers(text)\n",
        "print(decimalNumbers)"
      ],
      "metadata": {
        "colab": {
          "base_uri": "https://localhost:8080/"
        },
        "id": "2V9xPOTE-T_E",
        "outputId": "85c661b4-3584-4190-8581-9955a63f7bc0"
      },
      "execution_count": 92,
      "outputs": [
        {
          "output_type": "stream",
          "name": "stdout",
          "text": [
            "['.25', '.50', '.75']\n"
          ]
        }
      ]
    },
    {
      "cell_type": "markdown",
      "source": [
        "Question 21- Write a Python program to separate and print the numbers and their position of a given string."
      ],
      "metadata": {
        "id": "veVjNuaiHqVQ"
      }
    },
    {
      "cell_type": "code",
      "source": [
        "def string(text):\n",
        "    pattern = re.compile(r'\\b\\d+\\b')\n",
        "    find = pattern.finditer(text)\n",
        "    for match in find:\n",
        "        number = match.group()\n",
        "        position = match.start()\n",
        "        print(f\"{number},{position}\")\n",
        "\n",
        "text = 'I have rupees of 0.25 0.50 0.75'\n",
        "string(text)"
      ],
      "metadata": {
        "colab": {
          "base_uri": "https://localhost:8080/"
        },
        "id": "7PvCLPHo111b",
        "outputId": "c4b9ffee-784c-471b-b2d6-4ae392f4ee95"
      },
      "execution_count": 97,
      "outputs": [
        {
          "output_type": "stream",
          "name": "stdout",
          "text": [
            "0,17\n",
            "25,19\n",
            "0,22\n",
            "50,24\n",
            "0,27\n",
            "75,29\n"
          ]
        }
      ]
    },
    {
      "cell_type": "markdown",
      "source": [
        "Question 22- Write a regular expression in python program to extract maximum/largest numeric value from a string.\n",
        "\n",
        "Sample Text:  'My marks in each semester are: 947, 896, 926, 524, 734, 950, 642'\n",
        "\n",
        "Expected Output: 950\n"
      ],
      "metadata": {
        "id": "wGPEs0nwI5OY"
      }
    },
    {
      "cell_type": "code",
      "source": [
        "string = 'My marks in each semester are: 947, 896, 926, 524, 734, 950, 642'\n",
        "pattern = r'\\b\\d+\\b'\n",
        "\n",
        "result = re.compile(pattern)\n",
        "matches = result.findall(string)\n",
        "max_num = max(map(int, matches))  #map for coverting sring to int\n",
        "print(max_num)"
      ],
      "metadata": {
        "colab": {
          "base_uri": "https://localhost:8080/"
        },
        "id": "iXBDstLbwakB",
        "outputId": "3bfa8b83-dbd7-467d-c392-6fc0a64fa020"
      },
      "execution_count": 112,
      "outputs": [
        {
          "output_type": "stream",
          "name": "stdout",
          "text": [
            "950\n"
          ]
        }
      ]
    },
    {
      "cell_type": "markdown",
      "source": [
        "Question 23- Create a function in python to insert spaces between words starting with capital letters.\n",
        "\n",
        "Sample Text: “RegularExpressionIsAnImportantTopicInPython\"\n",
        "\n",
        "Expected Output: Regular Expression Is An Important Topic In Python\n"
      ],
      "metadata": {
        "id": "95IOsRy4LNMo"
      }
    },
    {
      "cell_type": "code",
      "source": [
        "string = 'RegularExpressionIsAnImportantTopicInPython'\n",
        "pattern = r'(?<=[a-z])(?=[A-Z])'\n",
        "\n",
        "result = re.compile(pattern)\n",
        "new = result.sub(' ', string)\n",
        "print(new)"
      ],
      "metadata": {
        "colab": {
          "base_uri": "https://localhost:8080/"
        },
        "id": "gA5tIEW4JdQY",
        "outputId": "39bf9b25-fe69-440e-c721-e05ef94a5158"
      },
      "execution_count": 116,
      "outputs": [
        {
          "output_type": "stream",
          "name": "stdout",
          "text": [
            "Regular Expression Is An Important Topic In Python\n"
          ]
        }
      ]
    },
    {
      "cell_type": "markdown",
      "source": [
        "Question 24- Python regex to find sequences of one upper case letter followed by lower case letters"
      ],
      "metadata": {
        "id": "vMY34tVbMjh0"
      }
    },
    {
      "cell_type": "code",
      "source": [
        "string = 'Regular Expression Is An Important Topic In Python'\n",
        "pattern = r'[A-Z][a-z]+'\n",
        "\n",
        "result = re.findall(pattern, string)\n",
        "print(result)"
      ],
      "metadata": {
        "colab": {
          "base_uri": "https://localhost:8080/"
        },
        "id": "3KOVSwicLoYn",
        "outputId": "6f9c6871-a094-4d01-c67f-5df19dc2b2f7"
      },
      "execution_count": 117,
      "outputs": [
        {
          "output_type": "stream",
          "name": "stdout",
          "text": [
            "['Regular', 'Expression', 'Is', 'An', 'Important', 'Topic', 'In', 'Python']\n"
          ]
        }
      ]
    },
    {
      "cell_type": "markdown",
      "source": [
        "Question 25- Write a Python program to remove continuous duplicate words from Sentence using Regular Expression.\n",
        "\n",
        "Sample Text: \"Hello hello world world\"\n",
        "\n",
        "Expected Output: Hello hello world\n"
      ],
      "metadata": {
        "id": "1IfRgYhJNAyX"
      }
    },
    {
      "cell_type": "code",
      "source": [
        "string = 'Hello hello world world'\n",
        "pattern = r'\\b(\\w+)(?:\\s+\\1)+\\b'\n",
        "\n",
        "result = re.compile(pattern)\n",
        "new = result.sub(r'\\1', string)\n",
        "print(new)"
      ],
      "metadata": {
        "colab": {
          "base_uri": "https://localhost:8080/"
        },
        "id": "NMGD-z-iNFil",
        "outputId": "d4ae78ef-ef1a-4339-9157-b7e4637d3641"
      },
      "execution_count": 120,
      "outputs": [
        {
          "output_type": "stream",
          "name": "stdout",
          "text": [
            "Hello hello world\n"
          ]
        }
      ]
    },
    {
      "cell_type": "markdown",
      "source": [
        "Question 26-  Write a python program using RegEx to accept string ending with alphanumeric character."
      ],
      "metadata": {
        "id": "ob2Yv8sqOGZv"
      }
    },
    {
      "cell_type": "code",
      "source": [
        "string = 'WritePythone', 'Code_username', 'Code_username_2023', 'OhitsPythone!!'\n",
        "pattern = r'^.*[a-zA-Z0-9]$'\n",
        "\n",
        "result = re.compile(pattern)\n",
        "for word in string:\n",
        "    if result.match(word):\n",
        "        print({word}, 'ends with an alphanumeric character.')\n",
        "    else:\n",
        "        print({word},'does not end with an alphanumeric character.')"
      ],
      "metadata": {
        "colab": {
          "base_uri": "https://localhost:8080/"
        },
        "id": "B8fW67loNGIF",
        "outputId": "9a25ece6-754b-4a4e-f8e3-527e21bc0b4f"
      },
      "execution_count": 129,
      "outputs": [
        {
          "output_type": "stream",
          "name": "stdout",
          "text": [
            "{'WritePythone'} ends with an alphanumeric character.\n",
            "{'Code_username'} ends with an alphanumeric character.\n",
            "{'Code_username_2023'} ends with an alphanumeric character.\n",
            "{'OhitsPythone!!'} does not end with an alphanumeric character.\n"
          ]
        }
      ]
    },
    {
      "cell_type": "markdown",
      "source": [
        "Question 27-Write a python program using RegEx to extract the hashtags.\n",
        "\n",
        "Sample Text:  \"\"\"RT @kapil_kausik: #Doltiwal I mean #xyzabc is \"hurt\" by #Demonetization as the same has rendered USELESS <ed><U+00A0><U+00BD><ed><U+00B1><U+0089> \"acquired funds\" No wo\"\"\"\n",
        "\n",
        "Expected Output: ['#Doltiwal', '#xyzabc', '#Demonetization']\n"
      ],
      "metadata": {
        "id": "8BTqd1qfQefV"
      }
    },
    {
      "cell_type": "code",
      "source": [
        "string = 'RT @kapil_kausik: #Doltiwal I mean #xyzabc is \"hurt\" by #Demonetization as the same has rendered USELESS <U+00A0><U+00BD><U+00B1><U+0089> \"acquired funds\" No wo'\n",
        "pattern = r'#\\w+'\n",
        "\n",
        "result = re.findall(pattern,string)\n",
        "print(result)"
      ],
      "metadata": {
        "colab": {
          "base_uri": "https://localhost:8080/"
        },
        "id": "n4bXLKqJPKKE",
        "outputId": "0b546bfe-bced-4c61-fbe6-08ca5af2daf5"
      },
      "execution_count": 130,
      "outputs": [
        {
          "output_type": "stream",
          "name": "stdout",
          "text": [
            "['#Doltiwal', '#xyzabc', '#Demonetization']\n"
          ]
        }
      ]
    },
    {
      "cell_type": "markdown",
      "source": [
        "Question 28- Write a python program using RegEx to remove <U+..> like symbols\n",
        "Check the below sample text, there are strange symbols something of the sort <U+..> all over the place. You need to come up with a general Regex expression that will cover all such symbols.\n",
        "\n",
        "Sample Text: \"@Jags123456 Bharat band on 28??<ed><U+00A0><U+00BD><ed><U+00B8><U+0082>Those who  are protesting #demonetization  are all different party leaders\"\n",
        "\n",
        "Expected Output: @Jags123456 Bharat band on 28??<ed><ed>Those who  are protesting #demonetization  are all different party leaders\n"
      ],
      "metadata": {
        "id": "y1BFfhpsRGFI"
      }
    },
    {
      "cell_type": "code",
      "source": [
        "string = '@Jags123456 Bharat band on 28??<U+00A0><U+00BD><U+00B8><U+0082>Those who are protesting #demonetization are all different party leaders'\n",
        "pattern = r'<U\\+[A-F0-9]+>'\n",
        "\n",
        "result = re.compile(pattern,string)\n",
        "words = max(map(int, result))  #map for coverting sring to int\n",
        "print(words)\n"
      ],
      "metadata": {
        "id": "e8iMUn2RRIbX"
      },
      "execution_count": null,
      "outputs": []
    },
    {
      "cell_type": "markdown",
      "source": [
        "Question 29- Write a python program to extract dates from the text stored in the text file.\n",
        "\n",
        "Sample Text: Ron was born on 12-09-1992 and he was admitted to school 15-12-1999.\n",
        "\n",
        "Note- Store this sample text in the file and then extract dates.\n"
      ],
      "metadata": {
        "id": "mgkyG0jSR9W-"
      }
    },
    {
      "cell_type": "code",
      "source": [
        "def dates(files):\n",
        "    with open(files, 'r') as file:\n",
        "        text = file.read()\n",
        "        pattern = re.compile(r'\\d{2}-\\d{2}-\\d{4}')\n",
        "        dates1 = pattern.findall(text)\n",
        "        return dates1\n",
        "\n",
        "filename = 'sample_text.txt'\n",
        "extractedDates = dates(filename)\n",
        "print(extractedDates)"
      ],
      "metadata": {
        "id": "Y8nAKlwXSKjG"
      },
      "execution_count": null,
      "outputs": []
    },
    {
      "cell_type": "markdown",
      "source": [
        "Question 30- Create a function in python to remove all words from a string of length between 2 and 4. The use of the re.compile() method is mandatory.\n",
        "\n",
        "Sample Text: \"The following example creates an ArrayList with a capacity of 50 elements. 4 elements are then added to the ArrayList and the ArrayList is trimmed accordingly.\"\n",
        "\n",
        "Expected Output:  following example creates ArrayList a capacity elements. 4 elements added ArrayList ArrayList trimmed accordingly.\n"
      ],
      "metadata": {
        "id": "lXgurixHS9QV"
      }
    },
    {
      "cell_type": "code",
      "source": [
        "string = 'The following example creates an ArrayList with a capacity of 50 elements. 4 elements are then added to the ArrayList and the ArrayList is trimmed accordingly.'\n",
        "pattern = r'\\b\\w{2,4}\\b'\n",
        "\n",
        "result = re.compile(pattern)\n",
        "new = result.sub(r' ', string)\n",
        "print(new)"
      ],
      "metadata": {
        "colab": {
          "base_uri": "https://localhost:8080/"
        },
        "id": "xfjYVYstTB6G",
        "outputId": "84105974-d0c0-4af1-9972-a73561345f5d"
      },
      "execution_count": 135,
      "outputs": [
        {
          "output_type": "stream",
          "name": "stdout",
          "text": [
            "  following example creates   ArrayList   a capacity     elements. 4 elements     added     ArrayList     ArrayList   trimmed accordingly.\n"
          ]
        }
      ]
    }
  ]
}